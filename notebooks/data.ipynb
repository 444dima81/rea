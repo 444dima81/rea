{
 "cells": [
  {
   "cell_type": "code",
   "id": "initial_id",
   "metadata": {
    "collapsed": true,
    "ExecuteTime": {
     "end_time": "2025-08-13T14:34:59.957085Z",
     "start_time": "2025-08-13T14:34:59.484316Z"
    }
   },
   "source": "import pandas as pd",
   "outputs": [],
   "execution_count": 1
  },
  {
   "metadata": {
    "ExecuteTime": {
     "end_time": "2025-08-13T15:07:27.911533Z",
     "start_time": "2025-08-13T15:07:13.438808Z"
    }
   },
   "cell_type": "code",
   "source": [
    "file_id = '130KYOX8O4wrP_T8vdz2GfvJRQ03ONmE7'\n",
    "download_url = f\"https://drive.google.com/uc?export=download&id={file_id}\"\n",
    "df = pd.read_csv(download_url)"
   ],
   "id": "cdd59507c5d71288",
   "outputs": [],
   "execution_count": 6
  },
  {
   "metadata": {
    "ExecuteTime": {
     "end_time": "2025-08-13T15:10:30.075183Z",
     "start_time": "2025-08-13T15:10:29.978513Z"
    }
   },
   "cell_type": "code",
   "source": [
    "print(df.shape)\n",
    "print(df.dtypes)\n",
    "print(df.memory_usage(deep=True).sum() / 1024**2, 'MB')"
   ],
   "id": "5efa02fabb3783e9",
   "outputs": [
    {
     "name": "stdout",
     "output_type": "stream",
     "text": [
      "(23368, 25)\n",
      "Unnamed: 0                    int64\n",
      "ID  объявления                int64\n",
      "Количество комнат            object\n",
      "Тип                          object\n",
      "Метро                        object\n",
      "Адрес                        object\n",
      "Площадь, м2                  object\n",
      "Дом                          object\n",
      "Парковка                     object\n",
      "Цена                         object\n",
      "Телефоны                     object\n",
      "Описание                     object\n",
      "Ремонт                       object\n",
      "Площадь комнат, м2           object\n",
      "Балкон                       object\n",
      "Окна                         object\n",
      "Санузел                      object\n",
      "Можно с детьми/животными     object\n",
      "Дополнительно                object\n",
      "Название ЖК                  object\n",
      "Серия дома                   object\n",
      "Высота потолков, м          float64\n",
      "Лифт                         object\n",
      "Мусоропровод                 object\n",
      "Ссылка на объявление         object\n",
      "dtype: object\n",
      "70.47252750396729 MB\n"
     ]
    }
   ],
   "execution_count": 8
  },
  {
   "metadata": {
    "ExecuteTime": {
     "end_time": "2025-08-14T06:06:02.708837Z",
     "start_time": "2025-08-14T06:06:02.230765Z"
    }
   },
   "cell_type": "code",
   "source": [
    "missing = df.isna().mean().sort_values(ascending=False)\n",
    "dups = df.duplicated().sum()\n",
    "const_cols = [c for c in df.columns if df[c].nunique(dropna=False) <= 1]\n",
    "print('Пропуски, доля:\\n', missing.head(10))\n",
    "print(f'Дубликатов: {dups}.')\n",
    "print(f'Константные: {const_cols}.')"
   ],
   "id": "1d418667b127c885",
   "outputs": [
    {
     "name": "stdout",
     "output_type": "stream",
     "text": [
      "Пропуски, доля:\n",
      " Серия дома                  0.907438\n",
      "Название ЖК                 0.749743\n",
      "Парковка                    0.574161\n",
      "Высота потолков, м          0.520455\n",
      "Мусоропровод                0.450274\n",
      "Площадь комнат, м2          0.381291\n",
      "Балкон                      0.341407\n",
      "Окна                        0.282994\n",
      "Можно с детьми/животными    0.260870\n",
      "Лифт                        0.235365\n",
      "dtype: float64\n",
      "Дубликатов: 0.\n",
      "Константные: ['Тип'].\n"
     ]
    }
   ],
   "execution_count": 17
  },
  {
   "metadata": {
    "ExecuteTime": {
     "end_time": "2025-08-14T06:21:43.439610Z",
     "start_time": "2025-08-14T06:21:43.288942Z"
    }
   },
   "cell_type": "code",
   "source": [
    "def find_cat(data):\n",
    "    for_dummy = []\n",
    "    not_for_dummy = []\n",
    "\n",
    "    for name in data.columns:\n",
    "        col = data[name]\n",
    "        if col.dtype == 'object':\n",
    "            if col.nunique() <= 3:\n",
    "                for_dummy.append(name)\n",
    "            else:\n",
    "                not_for_dummy.append(name)\n",
    "\n",
    "    return for_dummy, not_for_dummy\n",
    "\n",
    "\n",
    "for_dummy, not_for_dummy = find_cat(df)\n",
    "\n",
    "print('Можно просто закодировать: ',for_dummy)\n",
    "print('\\nНельзя так просто закодировать: ', not_for_dummy)"
   ],
   "id": "7d8ab7842782a30d",
   "outputs": [
    {
     "name": "stdout",
     "output_type": "stream",
     "text": [
      "Можно просто закодировать:  ['Тип', 'Окна', 'Можно с детьми/животными', 'Мусоропровод']\n",
      "\n",
      "Нельзя так просто закодировать:  ['Количество комнат', 'Метро', 'Адрес', 'Площадь, м2', 'Дом', 'Парковка', 'Цена', 'Телефоны', 'Описание', 'Ремонт', 'Площадь комнат, м2', 'Балкон', 'Санузел', 'Дополнительно', 'Название ЖК', 'Серия дома', 'Лифт', 'Ссылка на объявление']\n"
     ]
    }
   ],
   "execution_count": 22
  },
  {
   "metadata": {
    "ExecuteTime": {
     "end_time": "2025-08-14T06:24:48.911995Z",
     "start_time": "2025-08-14T06:24:48.284955Z"
    }
   },
   "cell_type": "code",
   "source": "",
   "id": "7a27c384830da44f",
   "outputs": [
    {
     "ename": "KeyError",
     "evalue": "np.int64(0)",
     "output_type": "error",
     "traceback": [
      "\u001B[31m---------------------------------------------------------------------------\u001B[39m",
      "\u001B[31mKeyError\u001B[39m                                  Traceback (most recent call last)",
      "\u001B[36mFile \u001B[39m\u001B[32m/Library/Frameworks/Python.framework/Versions/3.12/lib/python3.12/site-packages/pandas/core/indexes/base.py:3812\u001B[39m, in \u001B[36mIndex.get_loc\u001B[39m\u001B[34m(self, key)\u001B[39m\n\u001B[32m   3811\u001B[39m \u001B[38;5;28;01mtry\u001B[39;00m:\n\u001B[32m-> \u001B[39m\u001B[32m3812\u001B[39m     \u001B[38;5;28;01mreturn\u001B[39;00m \u001B[38;5;28;43mself\u001B[39;49m\u001B[43m.\u001B[49m\u001B[43m_engine\u001B[49m\u001B[43m.\u001B[49m\u001B[43mget_loc\u001B[49m\u001B[43m(\u001B[49m\u001B[43mcasted_key\u001B[49m\u001B[43m)\u001B[49m\n\u001B[32m   3813\u001B[39m \u001B[38;5;28;01mexcept\u001B[39;00m \u001B[38;5;167;01mKeyError\u001B[39;00m \u001B[38;5;28;01mas\u001B[39;00m err:\n",
      "\u001B[36mFile \u001B[39m\u001B[32mpandas/_libs/index.pyx:167\u001B[39m, in \u001B[36mpandas._libs.index.IndexEngine.get_loc\u001B[39m\u001B[34m()\u001B[39m\n",
      "\u001B[36mFile \u001B[39m\u001B[32mpandas/_libs/index.pyx:196\u001B[39m, in \u001B[36mpandas._libs.index.IndexEngine.get_loc\u001B[39m\u001B[34m()\u001B[39m\n",
      "\u001B[36mFile \u001B[39m\u001B[32mpandas/_libs/hashtable_class_helper.pxi:7088\u001B[39m, in \u001B[36mpandas._libs.hashtable.PyObjectHashTable.get_item\u001B[39m\u001B[34m()\u001B[39m\n",
      "\u001B[36mFile \u001B[39m\u001B[32mpandas/_libs/hashtable_class_helper.pxi:7096\u001B[39m, in \u001B[36mpandas._libs.hashtable.PyObjectHashTable.get_item\u001B[39m\u001B[34m()\u001B[39m\n",
      "\u001B[31mKeyError\u001B[39m: np.int64(0)",
      "\nThe above exception was the direct cause of the following exception:\n",
      "\u001B[31mKeyError\u001B[39m                                  Traceback (most recent call last)",
      "\u001B[36mCell\u001B[39m\u001B[36m \u001B[39m\u001B[32mIn[23]\u001B[39m\u001B[32m, line 1\u001B[39m\n\u001B[32m----> \u001B[39m\u001B[32m1\u001B[39m dups2 = \u001B[43mdf\u001B[49m\u001B[43m[\u001B[49m\u001B[43mdf\u001B[49m\u001B[43m[\u001B[49m\u001B[33;43m'\u001B[39;49m\u001B[33;43mСсылка на объявление\u001B[39;49m\u001B[33;43m'\u001B[39;49m\u001B[43m]\u001B[49m\u001B[43m.\u001B[49m\u001B[43mduplicated\u001B[49m\u001B[43m(\u001B[49m\u001B[43m)\u001B[49m\u001B[43m.\u001B[49m\u001B[43msum\u001B[49m\u001B[43m(\u001B[49m\u001B[43m)\u001B[49m\u001B[43m]\u001B[49m\n",
      "\u001B[36mFile \u001B[39m\u001B[32m/Library/Frameworks/Python.framework/Versions/3.12/lib/python3.12/site-packages/pandas/core/frame.py:4107\u001B[39m, in \u001B[36mDataFrame.__getitem__\u001B[39m\u001B[34m(self, key)\u001B[39m\n\u001B[32m   4105\u001B[39m \u001B[38;5;28;01mif\u001B[39;00m \u001B[38;5;28mself\u001B[39m.columns.nlevels > \u001B[32m1\u001B[39m:\n\u001B[32m   4106\u001B[39m     \u001B[38;5;28;01mreturn\u001B[39;00m \u001B[38;5;28mself\u001B[39m._getitem_multilevel(key)\n\u001B[32m-> \u001B[39m\u001B[32m4107\u001B[39m indexer = \u001B[38;5;28;43mself\u001B[39;49m\u001B[43m.\u001B[49m\u001B[43mcolumns\u001B[49m\u001B[43m.\u001B[49m\u001B[43mget_loc\u001B[49m\u001B[43m(\u001B[49m\u001B[43mkey\u001B[49m\u001B[43m)\u001B[49m\n\u001B[32m   4108\u001B[39m \u001B[38;5;28;01mif\u001B[39;00m is_integer(indexer):\n\u001B[32m   4109\u001B[39m     indexer = [indexer]\n",
      "\u001B[36mFile \u001B[39m\u001B[32m/Library/Frameworks/Python.framework/Versions/3.12/lib/python3.12/site-packages/pandas/core/indexes/base.py:3819\u001B[39m, in \u001B[36mIndex.get_loc\u001B[39m\u001B[34m(self, key)\u001B[39m\n\u001B[32m   3814\u001B[39m     \u001B[38;5;28;01mif\u001B[39;00m \u001B[38;5;28misinstance\u001B[39m(casted_key, \u001B[38;5;28mslice\u001B[39m) \u001B[38;5;129;01mor\u001B[39;00m (\n\u001B[32m   3815\u001B[39m         \u001B[38;5;28misinstance\u001B[39m(casted_key, abc.Iterable)\n\u001B[32m   3816\u001B[39m         \u001B[38;5;129;01mand\u001B[39;00m \u001B[38;5;28many\u001B[39m(\u001B[38;5;28misinstance\u001B[39m(x, \u001B[38;5;28mslice\u001B[39m) \u001B[38;5;28;01mfor\u001B[39;00m x \u001B[38;5;129;01min\u001B[39;00m casted_key)\n\u001B[32m   3817\u001B[39m     ):\n\u001B[32m   3818\u001B[39m         \u001B[38;5;28;01mraise\u001B[39;00m InvalidIndexError(key)\n\u001B[32m-> \u001B[39m\u001B[32m3819\u001B[39m     \u001B[38;5;28;01mraise\u001B[39;00m \u001B[38;5;167;01mKeyError\u001B[39;00m(key) \u001B[38;5;28;01mfrom\u001B[39;00m\u001B[38;5;250m \u001B[39m\u001B[34;01merr\u001B[39;00m\n\u001B[32m   3820\u001B[39m \u001B[38;5;28;01mexcept\u001B[39;00m \u001B[38;5;167;01mTypeError\u001B[39;00m:\n\u001B[32m   3821\u001B[39m     \u001B[38;5;66;03m# If we have a listlike key, _check_indexing_error will raise\u001B[39;00m\n\u001B[32m   3822\u001B[39m     \u001B[38;5;66;03m#  InvalidIndexError. Otherwise we fall through and re-raise\u001B[39;00m\n\u001B[32m   3823\u001B[39m     \u001B[38;5;66;03m#  the TypeError.\u001B[39;00m\n\u001B[32m   3824\u001B[39m     \u001B[38;5;28mself\u001B[39m._check_indexing_error(key)\n",
      "\u001B[31mKeyError\u001B[39m: np.int64(0)"
     ]
    }
   ],
   "execution_count": 23
  }
 ],
 "metadata": {
  "kernelspec": {
   "display_name": "Python 3",
   "language": "python",
   "name": "python3"
  },
  "language_info": {
   "codemirror_mode": {
    "name": "ipython",
    "version": 2
   },
   "file_extension": ".py",
   "mimetype": "text/x-python",
   "name": "python",
   "nbconvert_exporter": "python",
   "pygments_lexer": "ipython2",
   "version": "2.7.6"
  }
 },
 "nbformat": 4,
 "nbformat_minor": 5
}
